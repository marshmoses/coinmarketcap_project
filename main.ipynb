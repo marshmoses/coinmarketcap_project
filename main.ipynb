{
 "cells": [
  {
   "cell_type": "code",
   "execution_count": 33,
   "metadata": {},
   "outputs": [],
   "source": [
    "#%pip install matplotlib\n",
    "#required libraries\n",
    "#%pip install  pandas matplotlib requests numpy seaborn sklearn\n",
    "import pandas as pd\n",
    "import matplotlib.pyplot as plt\n",
    "import requests\n",
    "import os#to create directory\n",
    "#%pip install os\n",
    "\n"
   ]
  },
  {
   "cell_type": "code",
   "execution_count": 10,
   "metadata": {},
   "outputs": [
    {
     "name": "stdout",
     "output_type": "stream",
     "text": [
      "          name symbol      slug    market_cap         price\n",
      "0      Bitcoin    BTC   bitcoin  7.237702e+11  37041.054277\n",
      "1     Ethereum    ETH  ethereum  2.476487e+11   2059.246647\n",
      "2  Tether USDt   USDT    tether  8.668018e+10      1.000072\n",
      "3          BNB    BNB       bnb  3.838380e+10    253.021372\n",
      "4          XRP    XRP       xrp  3.592251e+10      0.669537\n",
      "5       Solana    SOL    solana  2.455043e+10     58.291509\n",
      "6         USDC   USDC  usd-coin  2.421120e+10      0.999781\n",
      "7      Cardano    ADA   cardano  1.362379e+10      0.386287\n",
      "8     Dogecoin   DOGE  dogecoin  1.132032e+10      0.079839\n",
      "9         TRON    TRX      tron  9.604316e+09      0.108284\n"
     ]
    }
   ],
   "source": [
    "\n",
    "# Function to fetch cryptocurrency market data from CoinMarketCap API\n",
    "\n",
    "# Function to fetch cryptocurrency market data from CoinMarketCap API with an API key\n",
    "def get_all_crypto_market_data(api_key):\n",
    "    # Define the URL here\n",
    "    url = \"https://pro-api.coinmarketcap.com/v1/cryptocurrency/listings/latest\"\n",
    "    \n",
    "    # Specify the currency you want prices in (e.g., KES)\n",
    "    vs_currency = \"USD\"\n",
    "    \n",
    "    # Construct parameters for the API request\n",
    "    params = {\n",
    "        'start': '1',\n",
    "        'limit': '10',  # You can adjust the limit based on your needs\n",
    "        'convert': vs_currency,\n",
    "    }\n",
    "    \n",
    "    # Include API key in the headers\n",
    "    headers = {\n",
    "        'Accepts': 'application/json',\n",
    "        'X-CMC_PRO_API_KEY': api_key,\n",
    "    }\n",
    "    \n",
    "    # Make the API request with headers\n",
    "    response = requests.get(url, params=params, headers=headers)\n",
    "    \n",
    "    if response.status_code == 200:\n",
    "        data = response.json()\n",
    "        \n",
    "        # Extract relevant information\n",
    "        crypto_list = []\n",
    "        for crypto in data['data']:\n",
    "            name = crypto['name']\n",
    "            symbol = crypto['symbol']\n",
    "            slug = crypto['slug']\n",
    "            market_cap = crypto['quote'][vs_currency]['market_cap']\n",
    "            price = crypto['quote'][vs_currency]['price']\n",
    "            \n",
    "            crypto_info = {\n",
    "                'name': name,\n",
    "                'symbol': symbol,\n",
    "                'slug': slug,\n",
    "                'market_cap': market_cap,\n",
    "                'price': price,\n",
    "            }\n",
    "            crypto_list.append(crypto_info)\n",
    "        \n",
    "        # Create a DataFrame from the extracted information\n",
    "        df = pd.DataFrame(crypto_list)\n",
    "        return df\n",
    "    else:\n",
    "        print(f\"Error: {response.status_code}\")\n",
    "        return None\n",
    "\n",
    "# Replace \"YOUR_API_KEY\" with your actual CoinMarketCap API key\n",
    "api_key = os.environ.get('API_KEY')\n",
    "if api_key is None:\n",
    "    print(\"API key not found. Please set your API key in the environment variable.\")\n",
    "else:\n",
    "    # Fetch cryptocurrency market data for all coins with API key\n",
    "    all_crypto_data = get_all_crypto_market_data(api_key)\n",
    "\n",
    "    # Display the data\n",
    "    all_crypto_data\n",
    "print(all_crypto_data)"
   ]
  },
  {
   "cell_type": "code",
   "execution_count": null,
   "metadata": {},
   "outputs": [],
   "source": []
  }
 ],
 "metadata": {
  "kernelspec": {
   "display_name": "Python 3",
   "language": "python",
   "name": "python3"
  },
  "language_info": {
   "codemirror_mode": {
    "name": "ipython",
    "version": 3
   },
   "file_extension": ".py",
   "mimetype": "text/x-python",
   "name": "python",
   "nbconvert_exporter": "python",
   "pygments_lexer": "ipython3",
   "version": "3.11.5"
  }
 },
 "nbformat": 4,
 "nbformat_minor": 2
}
